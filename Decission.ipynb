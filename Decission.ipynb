{
 "cells": [
  {
   "cell_type": "markdown",
   "id": "f5ecf06e",
   "metadata": {},
   "source": [
    "# if"
   ]
  },
  {
   "cell_type": "code",
   "execution_count": 16,
   "id": "3640cdc2",
   "metadata": {},
   "outputs": [
    {
     "name": "stdout",
     "output_type": "stream",
     "text": [
      "จงกรอกคะแนนรวม : 50\n",
      "ผลรวมคะแนน = 50\n",
      "สอบผ่าน\n"
     ]
    }
   ],
   "source": [
    "x = int(input(\"จงกรอกคะแนนรวม : \"))\n",
    "if x >= 50:\n",
    "    print('ผลรวมคะแนน = ' + str(x))\n",
    "    print(\"สอบผ่าน\")\n",
    "else :\n",
    "    print('ผลรวมคะแนน = ' + str(x))\n",
    "    print(\"สอบไม่ผ่าน\")\n",
    "\n",
    "             "
   ]
  },
  {
   "cell_type": "code",
   "execution_count": 17,
   "id": "fef6217f",
   "metadata": {},
   "outputs": [
    {
     "name": "stdout",
     "output_type": "stream",
     "text": [
      "จงกรอกคะแนนรวม : 49\n",
      "ผลรวมคะแนน = 49\n",
      "สอบไม่ผ่าน\n"
     ]
    }
   ],
   "source": [
    "x = int(input(\"จงกรอกคะแนนรวม : \"))\n",
    "if x >= 50:\n",
    "    print('ผลรวมคะแนน = ' + str(x))\n",
    "    print(\"สอบผ่าน\")\n",
    "else :\n",
    "    print('ผลรวมคะแนน = ' + str(x))\n",
    "    print(\"สอบไม่ผ่าน\")"
   ]
  },
  {
   "cell_type": "code",
   "execution_count": null,
   "id": "a089e7fd",
   "metadata": {},
   "outputs": [],
   "source": []
  }
 ],
 "metadata": {
  "kernelspec": {
   "display_name": "Python 3 (ipykernel)",
   "language": "python",
   "name": "python3"
  },
  "language_info": {
   "codemirror_mode": {
    "name": "ipython",
    "version": 3
   },
   "file_extension": ".py",
   "mimetype": "text/x-python",
   "name": "python",
   "nbconvert_exporter": "python",
   "pygments_lexer": "ipython3",
   "version": "3.11.3"
  }
 },
 "nbformat": 4,
 "nbformat_minor": 5
}
