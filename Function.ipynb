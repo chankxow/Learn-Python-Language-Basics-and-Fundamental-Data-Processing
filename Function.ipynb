{
 "cells": [
  {
   "cell_type": "markdown",
   "id": "ef8d3217",
   "metadata": {},
   "source": [
    "# Built in Function Examples\n",
    "\n",
    "## abs()"
   ]
  },
  {
   "cell_type": "code",
   "execution_count": 2,
   "id": "ea5c8b92",
   "metadata": {},
   "outputs": [
    {
     "name": "stdout",
     "output_type": "stream",
     "text": [
      "5\n",
      "5\n"
     ]
    }
   ],
   "source": [
    "print(abs(5))\n",
    "print(abs(-5))"
   ]
  },
  {
   "cell_type": "code",
   "execution_count": 3,
   "id": "3dfdca2f",
   "metadata": {},
   "outputs": [
    {
     "name": "stdout",
     "output_type": "stream",
     "text": [
      "5.22\n",
      "2.25\n"
     ]
    }
   ],
   "source": [
    "print(abs(5.22))\n",
    "print(abs(2.25))"
   ]
  },
  {
   "cell_type": "code",
   "execution_count": null,
   "id": "aa284cf5",
   "metadata": {},
   "outputs": [],
   "source": [
    "print(abs(1+2j))\n",
    "print(abs(3+4j))"
   ]
  },
  {
   "cell_type": "markdown",
   "id": "b6309ffe",
   "metadata": {},
   "source": [
    "### bin()"
   ]
  },
  {
   "cell_type": "code",
   "execution_count": 8,
   "id": "632464ad",
   "metadata": {},
   "outputs": [
    {
     "name": "stdout",
     "output_type": "stream",
     "text": [
      "0b11001000\n",
      "<class 'str'>\n"
     ]
    }
   ],
   "source": [
    "x = bin(200)\n",
    "print(x)\n",
    "print(type(x))"
   ]
  },
  {
   "cell_type": "markdown",
   "id": "bfff77e2",
   "metadata": {},
   "source": [
    "### input()"
   ]
  },
  {
   "cell_type": "code",
   "execution_count": 12,
   "id": "68f29390",
   "metadata": {},
   "outputs": [
    {
     "name": "stdout",
     "output_type": "stream",
     "text": [
      "What your think? \n",
      "I love coding.\n",
      "I love coding.\n"
     ]
    }
   ],
   "source": [
    "name = input(\"What your think? \\n\")\n",
    "print(name)"
   ]
  },
  {
   "cell_type": "markdown",
   "id": "552a5ef9",
   "metadata": {},
   "source": [
    "pow()"
   ]
  },
  {
   "cell_type": "code",
   "execution_count": 13,
   "id": "39f88adf",
   "metadata": {},
   "outputs": [
    {
     "name": "stdout",
     "output_type": "stream",
     "text": [
      "25\n",
      "32\n"
     ]
    }
   ],
   "source": [
    "print(pow(5,2))\n",
    "print(pow(2,5))"
   ]
  },
  {
   "cell_type": "code",
   "execution_count": 14,
   "id": "bb903bc1",
   "metadata": {},
   "outputs": [
    {
     "name": "stdout",
     "output_type": "stream",
     "text": [
      "243\n"
     ]
    }
   ],
   "source": [
    "print(pow(exp=5,base=3))"
   ]
  },
  {
   "cell_type": "markdown",
   "id": "adac36ab",
   "metadata": {},
   "source": [
    "### max(arg1,arg2,arg3,*arg)"
   ]
  },
  {
   "cell_type": "code",
   "execution_count": 15,
   "id": "78d42403",
   "metadata": {},
   "outputs": [
    {
     "name": "stdout",
     "output_type": "stream",
     "text": [
      "9\n"
     ]
    }
   ],
   "source": [
    "print(max(5,6,4,7,9,5.5))"
   ]
  },
  {
   "cell_type": "markdown",
   "id": "b6d9f69c",
   "metadata": {},
   "source": [
    "### print()"
   ]
  },
  {
   "cell_type": "code",
   "execution_count": 16,
   "id": "445b1eae",
   "metadata": {},
   "outputs": [
    {
     "name": "stdout",
     "output_type": "stream",
     "text": [
      "Hello World Now\n"
     ]
    }
   ],
   "source": [
    "print(\"Hello\",\"World\",\"Now\")"
   ]
  },
  {
   "cell_type": "code",
   "execution_count": 18,
   "id": "af08b78c",
   "metadata": {},
   "outputs": [
    {
     "name": "stdout",
     "output_type": "stream",
     "text": [
      "Help+The+World\n"
     ]
    }
   ],
   "source": [
    "print(\"Help\",\"The\",\"World\", sep = \"+\")"
   ]
  },
  {
   "cell_type": "code",
   "execution_count": 19,
   "id": "5fc52c48",
   "metadata": {},
   "outputs": [
    {
     "name": "stdout",
     "output_type": "stream",
     "text": [
      "Hello World Then.Hello mars\n"
     ]
    }
   ],
   "source": [
    "print(\"Hello\",\"World\",\"Then\",end=\".\")\n",
    "print(\"Hello mars\")"
   ]
  },
  {
   "cell_type": "code",
   "execution_count": 21,
   "id": "36d39ff8",
   "metadata": {},
   "outputs": [
    {
     "name": "stdout",
     "output_type": "stream",
     "text": [
      "A\n",
      "B\n",
      "C\n"
     ]
    }
   ],
   "source": [
    "print(\"A\",\"B\",\"C\",sep =\"\\n\")"
   ]
  },
  {
   "cell_type": "code",
   "execution_count": null,
   "id": "75309cec",
   "metadata": {},
   "outputs": [],
   "source": []
  }
 ],
 "metadata": {
  "kernelspec": {
   "display_name": "Python 3 (ipykernel)",
   "language": "python",
   "name": "python3"
  },
  "language_info": {
   "codemirror_mode": {
    "name": "ipython",
    "version": 3
   },
   "file_extension": ".py",
   "mimetype": "text/x-python",
   "name": "python",
   "nbconvert_exporter": "python",
   "pygments_lexer": "ipython3",
   "version": "3.11.3"
  }
 },
 "nbformat": 4,
 "nbformat_minor": 5
}
