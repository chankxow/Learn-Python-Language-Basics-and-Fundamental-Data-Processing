{
 "cells": [
  {
   "cell_type": "markdown",
   "id": "9f0eac4d",
   "metadata": {},
   "source": [
    "# Built in Function Examples\n",
    "\n",
    "## abs()"
   ]
  },
  {
   "cell_type": "code",
   "execution_count": 2,
   "id": "c5349aba",
   "metadata": {},
   "outputs": [
    {
     "name": "stdout",
     "output_type": "stream",
     "text": [
      "5\n",
      "5\n"
     ]
    }
   ],
   "source": [
    "print(abs(5))\n",
    "print(abs(-5))"
   ]
  },
  {
   "cell_type": "code",
   "execution_count": 3,
   "id": "6ce3c351",
   "metadata": {},
   "outputs": [
    {
     "name": "stdout",
     "output_type": "stream",
     "text": [
      "5.22\n",
      "2.25\n"
     ]
    }
   ],
   "source": [
    "print(abs(5.22))\n",
    "print(abs(2.25))"
   ]
  },
  {
   "cell_type": "code",
   "execution_count": null,
   "id": "bc2506cc",
   "metadata": {},
   "outputs": [],
   "source": [
    "print(abs(1+2j))\n",
    "print(abs(3+4j))"
   ]
  },
  {
   "cell_type": "markdown",
   "id": "81abb22d",
   "metadata": {},
   "source": [
    "### bin()"
   ]
  },
  {
   "cell_type": "code",
   "execution_count": 8,
   "id": "1015da71",
   "metadata": {},
   "outputs": [
    {
     "name": "stdout",
     "output_type": "stream",
     "text": [
      "0b11001000\n",
      "<class 'str'>\n"
     ]
    }
   ],
   "source": [
    "x = bin(200)\n",
    "print(x)\n",
    "print(type(x))"
   ]
  },
  {
   "cell_type": "markdown",
   "id": "104e1ed4",
   "metadata": {},
   "source": [
    "### input()"
   ]
  },
  {
   "cell_type": "code",
   "execution_count": 12,
   "id": "708277bb",
   "metadata": {},
   "outputs": [
    {
     "name": "stdout",
     "output_type": "stream",
     "text": [
      "What your think? \n",
      "I love coding.\n",
      "I love coding.\n"
     ]
    }
   ],
   "source": [
    "name = input(\"What your think? \\n\")\n",
    "print(name)"
   ]
  },
  {
   "cell_type": "markdown",
   "id": "11cd80e4",
   "metadata": {},
   "source": [
    "pow()"
   ]
  },
  {
   "cell_type": "code",
   "execution_count": 13,
   "id": "7dff09c6",
   "metadata": {},
   "outputs": [
    {
     "name": "stdout",
     "output_type": "stream",
     "text": [
      "25\n",
      "32\n"
     ]
    }
   ],
   "source": [
    "print(pow(5,2))\n",
    "print(pow(2,5))"
   ]
  },
  {
   "cell_type": "code",
   "execution_count": 14,
   "id": "ef65fce1",
   "metadata": {},
   "outputs": [
    {
     "name": "stdout",
     "output_type": "stream",
     "text": [
      "243\n"
     ]
    }
   ],
   "source": [
    "print(pow(exp=5,base=3))"
   ]
  },
  {
   "cell_type": "markdown",
   "id": "ec621c97",
   "metadata": {},
   "source": [
    "max"
   ]
  }
 ],
 "metadata": {
  "kernelspec": {
   "display_name": "Python 3 (ipykernel)",
   "language": "python",
   "name": "python3"
  },
  "language_info": {
   "codemirror_mode": {
    "name": "ipython",
    "version": 3
   },
   "file_extension": ".py",
   "mimetype": "text/x-python",
   "name": "python",
   "nbconvert_exporter": "python",
   "pygments_lexer": "ipython3",
   "version": "3.11.3"
  }
 },
 "nbformat": 4,
 "nbformat_minor": 5
}
