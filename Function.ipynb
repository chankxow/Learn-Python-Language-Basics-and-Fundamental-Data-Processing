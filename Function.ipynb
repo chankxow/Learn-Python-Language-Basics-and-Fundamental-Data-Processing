{
 "cells": [
  {
   "cell_type": "markdown",
   "id": "4b3d1311",
   "metadata": {},
   "source": [
    "# Built in Function Examples\n",
    "\n",
    "## abs()"
   ]
  },
  {
   "cell_type": "code",
   "execution_count": 2,
   "id": "5db06400",
   "metadata": {},
   "outputs": [
    {
     "name": "stdout",
     "output_type": "stream",
     "text": [
      "5\n",
      "5\n"
     ]
    }
   ],
   "source": [
    "print(abs(5))\n",
    "print(abs(-5))"
   ]
  },
  {
   "cell_type": "code",
   "execution_count": 3,
   "id": "47971a4b",
   "metadata": {},
   "outputs": [
    {
     "name": "stdout",
     "output_type": "stream",
     "text": [
      "5.22\n",
      "2.25\n"
     ]
    }
   ],
   "source": [
    "print(abs(5.22))\n",
    "print(abs(2.25))"
   ]
  },
  {
   "cell_type": "code",
   "execution_count": null,
   "id": "f716461b",
   "metadata": {},
   "outputs": [],
   "source": [
    "print(abs(1+2j))\n",
    "print(abs(3+4j))"
   ]
  },
  {
   "cell_type": "markdown",
   "id": "793c0a01",
   "metadata": {},
   "source": [
    "### bin()"
   ]
  },
  {
   "cell_type": "code",
   "execution_count": 8,
   "id": "f2453e6c",
   "metadata": {},
   "outputs": [
    {
     "name": "stdout",
     "output_type": "stream",
     "text": [
      "0b11001000\n",
      "<class 'str'>\n"
     ]
    }
   ],
   "source": [
    "x = bin(200)\n",
    "print(x)\n",
    "print(type(x))"
   ]
  },
  {
   "cell_type": "markdown",
   "id": "37c4ab6c",
   "metadata": {},
   "source": [
    "### input()"
   ]
  },
  {
   "cell_type": "code",
   "execution_count": 12,
   "id": "cd1008a4",
   "metadata": {},
   "outputs": [
    {
     "name": "stdout",
     "output_type": "stream",
     "text": [
      "What your think? \n",
      "I love coding.\n",
      "I love coding.\n"
     ]
    }
   ],
   "source": [
    "name = input(\"What your think? \\n\")\n",
    "print(name)"
   ]
  },
  {
   "cell_type": "markdown",
   "id": "05e5fd37",
   "metadata": {},
   "source": [
    "pow()"
   ]
  },
  {
   "cell_type": "code",
   "execution_count": 13,
   "id": "25cdbeec",
   "metadata": {},
   "outputs": [
    {
     "name": "stdout",
     "output_type": "stream",
     "text": [
      "25\n",
      "32\n"
     ]
    }
   ],
   "source": [
    "print(pow(5,2))\n",
    "print(pow(2,5))"
   ]
  },
  {
   "cell_type": "code",
   "execution_count": 14,
   "id": "3270353c",
   "metadata": {},
   "outputs": [
    {
     "name": "stdout",
     "output_type": "stream",
     "text": [
      "243\n"
     ]
    }
   ],
   "source": [
    "print(pow(exp=5,base=3))"
   ]
  },
  {
   "cell_type": "markdown",
   "id": "8c1c56ac",
   "metadata": {},
   "source": [
    "### max(arg1,arg2,arg3,*arg)"
   ]
  },
  {
   "cell_type": "code",
   "execution_count": 15,
   "id": "875d7f76",
   "metadata": {},
   "outputs": [
    {
     "name": "stdout",
     "output_type": "stream",
     "text": [
      "9\n"
     ]
    }
   ],
   "source": [
    "print(max(5,6,4,7,9,5.5))"
   ]
  },
  {
   "cell_type": "markdown",
   "id": "94fa81c7",
   "metadata": {},
   "source": [
    "### print()"
   ]
  },
  {
   "cell_type": "code",
   "execution_count": 16,
   "id": "97892e62",
   "metadata": {},
   "outputs": [
    {
     "name": "stdout",
     "output_type": "stream",
     "text": [
      "Hello World Now\n"
     ]
    }
   ],
   "source": [
    "print(\"Hello\",\"World\",\"Now\")"
   ]
  },
  {
   "cell_type": "code",
   "execution_count": 18,
   "id": "95edb14b",
   "metadata": {},
   "outputs": [
    {
     "name": "stdout",
     "output_type": "stream",
     "text": [
      "Help+The+World\n"
     ]
    }
   ],
   "source": [
    "print(\"Help\",\"The\",\"World\", sep = \"+\")"
   ]
  },
  {
   "cell_type": "code",
   "execution_count": 19,
   "id": "cb25a17a",
   "metadata": {},
   "outputs": [
    {
     "name": "stdout",
     "output_type": "stream",
     "text": [
      "Hello World Then.Hello mars\n"
     ]
    }
   ],
   "source": [
    "print(\"Hello\",\"World\",\"Then\",end=\".\")\n",
    "print(\"Hello mars\")"
   ]
  },
  {
   "cell_type": "code",
   "execution_count": null,
   "id": "6da12a1d",
   "metadata": {},
   "outputs": [],
   "source": []
  }
 ],
 "metadata": {
  "kernelspec": {
   "display_name": "Python 3 (ipykernel)",
   "language": "python",
   "name": "python3"
  },
  "language_info": {
   "codemirror_mode": {
    "name": "ipython",
    "version": 3
   },
   "file_extension": ".py",
   "mimetype": "text/x-python",
   "name": "python",
   "nbconvert_exporter": "python",
   "pygments_lexer": "ipython3",
   "version": "3.11.3"
  }
 },
 "nbformat": 4,
 "nbformat_minor": 5
}
