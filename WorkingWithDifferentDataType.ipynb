{
 "cells": [
  {
   "cell_type": "markdown",
   "id": "e108e27b",
   "metadata": {},
   "source": [
    "# Operands = int"
   ]
  },
  {
   "cell_type": "code",
   "execution_count": 6,
   "id": "879040c6",
   "metadata": {},
   "outputs": [
    {
     "name": "stdout",
     "output_type": "stream",
     "text": [
      "4\n",
      "15.3\n"
     ]
    }
   ],
   "source": [
    "print(2+2) # Operands = int\n",
    "print(0.8+5.6+8.9)# Operands = float"
   ]
  },
  {
   "cell_type": "markdown",
   "id": "548fd3d6",
   "metadata": {},
   "source": [
    "# Operands = str"
   ]
  },
  {
   "cell_type": "code",
   "execution_count": 7,
   "id": "2d9497a7",
   "metadata": {},
   "outputs": [
    {
     "name": "stdout",
     "output_type": "stream",
     "text": [
      "543\n"
     ]
    }
   ],
   "source": [
    "s = \"5\"+\"4\"+\"3\"\n",
    "print(s)"
   ]
  },
  {
   "cell_type": "markdown",
   "id": "fc7bb3d2",
   "metadata": {},
   "source": [
    "ข้อควรระวัง"
   ]
  },
  {
   "cell_type": "code",
   "execution_count": 8,
   "id": "7c19952b",
   "metadata": {},
   "outputs": [
    {
     "ename": "TypeError",
     "evalue": "can only concatenate str (not \"int\") to str",
     "output_type": "error",
     "traceback": [
      "\u001b[1;31m---------------------------------------------------------------------------\u001b[0m",
      "\u001b[1;31mTypeError\u001b[0m                                 Traceback (most recent call last)",
      "Cell \u001b[1;32mIn[8], line 2\u001b[0m\n\u001b[0;32m      1\u001b[0m x \u001b[38;5;241m=\u001b[39m \u001b[38;5;241m32\u001b[39m\n\u001b[1;32m----> 2\u001b[0m \u001b[38;5;28mprint\u001b[39m(\u001b[38;5;124;43m\"\u001b[39;49m\u001b[38;5;124;43mThis is number \u001b[39;49m\u001b[38;5;124;43m\"\u001b[39;49m\u001b[43m \u001b[49m\u001b[38;5;241;43m+\u001b[39;49m\u001b[43m \u001b[49m\u001b[43mx\u001b[49m)\n",
      "\u001b[1;31mTypeError\u001b[0m: can only concatenate str (not \"int\") to str"
     ]
    }
   ],
   "source": [
    "x = 32\n",
    "print(\"This is number \" + x)"
   ]
  },
  {
   "cell_type": "markdown",
   "id": "3d9c33f9",
   "metadata": {},
   "source": [
    "# String multiplication"
   ]
  },
  {
   "cell_type": "code",
   "execution_count": 13,
   "id": "cea5a6a7",
   "metadata": {},
   "outputs": [
    {
     "name": "stdout",
     "output_type": "stream",
     "text": [
      "EI EIEI EIEI EIEI EIEI EIEI EIEI EIEI EIEI EIEI EI\n",
      "XDXDXDXDXD\n"
     ]
    }
   ],
   "source": [
    "print(\"EI EI\"*10)\n",
    "print(\"XD\"*5)"
   ]
  },
  {
   "cell_type": "markdown",
   "id": "6579d72f",
   "metadata": {},
   "source": [
    "ข้อควรระวัง operand จะต้องเป็น int เท่านั้น"
   ]
  },
  {
   "cell_type": "code",
   "execution_count": 14,
   "id": "3956a13c",
   "metadata": {},
   "outputs": [
    {
     "ename": "TypeError",
     "evalue": "can't multiply sequence by non-int of type 'float'",
     "output_type": "error",
     "traceback": [
      "\u001b[1;31m---------------------------------------------------------------------------\u001b[0m",
      "\u001b[1;31mTypeError\u001b[0m                                 Traceback (most recent call last)",
      "Cell \u001b[1;32mIn[14], line 1\u001b[0m\n\u001b[1;32m----> 1\u001b[0m \u001b[38;5;28mprint\u001b[39m(\u001b[38;5;124;43m\"\u001b[39;49m\u001b[38;5;124;43mHI GUY\u001b[39;49m\u001b[38;5;124;43m\"\u001b[39;49m\u001b[38;5;241;43m*\u001b[39;49m\u001b[38;5;241;43m4.5\u001b[39;49m)\n",
      "\u001b[1;31mTypeError\u001b[0m: can't multiply sequence by non-int of type 'float'"
     ]
    }
   ],
   "source": [
    "print(\"HI GUY\"*4.5)"
   ]
  },
  {
   "cell_type": "markdown",
   "id": "c1515265",
   "metadata": {},
   "source": [
    "# Implicit Data Type Conversion\n",
    "python จะแปลงข้อมูลให้เองเกิดขึ้นได้โดยอัตโนมัต\n",
    "จะแปลงจากdata types ที่น้อยกว่าให้ตัวที่เก็บข้อมูลได้มากกว่า"
   ]
  },
  {
   "cell_type": "code",
   "execution_count": 16,
   "id": "a08945ff",
   "metadata": {},
   "outputs": [
    {
     "name": "stdout",
     "output_type": "stream",
     "text": [
      "67.5\n",
      "<class 'float'>\n"
     ]
    }
   ],
   "source": [
    "print(35 + 32.50)\n",
    "print(type(35 + 32.50))"
   ]
  },
  {
   "cell_type": "code",
   "execution_count": 18,
   "id": "cef52681",
   "metadata": {},
   "outputs": [
    {
     "name": "stdout",
     "output_type": "stream",
     "text": [
      "<class 'complex'>\n",
      "<class 'complex'>\n"
     ]
    }
   ],
   "source": [
    "print(type(1+1j+0.5))\n",
    "print(type(5+6j+0.56+5.3))"
   ]
  },
  {
   "cell_type": "markdown",
   "id": "ac25fc3e",
   "metadata": {},
   "source": [
    "# Explicit Data Type Conversion\n",
    "เป็นการใช้คำสั่งในการแปลงค่าข้อมูล Data types เพื่อใช้เก็บข้อมูลในค่าใหม่\n",
    "ได้แก่ \n",
    "- `int`\n",
    "- `float`\n",
    "- `str`\n",
    "- `complex`\n",
    "- `bool`"
   ]
  },
  {
   "cell_type": "code",
   "execution_count": 20,
   "id": "1108c111",
   "metadata": {},
   "outputs": [
    {
     "name": "stdout",
     "output_type": "stream",
     "text": [
      "Please enter n: 2\n",
      "n = 2 --> n^10 = 1024.0\n"
     ]
    }
   ],
   "source": [
    "n = input(\"Please enter n: \")\n",
    "result = float(n) ** 10\n",
    "\n",
    "print(\"n = \"+n+\" --> n^10 = \" +str(result))"
   ]
  },
  {
   "cell_type": "markdown",
   "id": "64f5efc1",
   "metadata": {},
   "source": [
    "# int()"
   ]
  },
  {
   "cell_type": "code",
   "execution_count": 25,
   "id": "bcf54a8b",
   "metadata": {},
   "outputs": [
    {
     "name": "stdout",
     "output_type": "stream",
     "text": [
      "20\n",
      "1\n",
      "0\n"
     ]
    }
   ],
   "source": [
    "print(int(\"20\"))\n",
    "#print(float(2+2j))\n",
    "#print(int(\"20.2\"))\n",
    "#print(int(\"Hello\"))\n",
    "print(int(True))\n",
    "print(int(False))"
   ]
  },
  {
   "cell_type": "markdown",
   "id": "3ac0d4ce",
   "metadata": {},
   "source": [
    "# float()"
   ]
  },
  {
   "cell_type": "code",
   "execution_count": 34,
   "id": "2254a56b",
   "metadata": {},
   "outputs": [
    {
     "name": "stdout",
     "output_type": "stream",
     "text": [
      "20.0\n",
      "1.0\n",
      "0.0\n"
     ]
    }
   ],
   "source": [
    "print(float(\"20\"))\n",
    "#print(float(2+2j))\n",
    "#print(float(\"20.2\"))\n",
    "#print(float(\"Hello\"))\n",
    "print(float(True))\n",
    "print(float(False))"
   ]
  },
  {
   "cell_type": "markdown",
   "id": "3966dde5",
   "metadata": {},
   "source": [
    "# complex()"
   ]
  },
  {
   "cell_type": "code",
   "execution_count": 28,
   "id": "925da225",
   "metadata": {},
   "outputs": [
    {
     "name": "stdout",
     "output_type": "stream",
     "text": [
      "(20+0j)\n",
      "(2+2j)\n",
      "(20.2+0j)\n",
      "(1+0j)\n",
      "0j\n"
     ]
    }
   ],
   "source": [
    "print(complex(\"20\"))\n",
    "print(complex(2+2j))\n",
    "print(complex(\"20.2\"))\n",
    "print(complex(True))\n",
    "print(complex(False))"
   ]
  },
  {
   "cell_type": "markdown",
   "id": "1a2b9938",
   "metadata": {},
   "source": [
    "# str()"
   ]
  },
  {
   "cell_type": "code",
   "execution_count": 33,
   "id": "6bfb2881",
   "metadata": {},
   "outputs": [
    {
     "name": "stdout",
     "output_type": "stream",
     "text": [
      "20\n",
      "(2+2j)\n",
      "20.2\n",
      "True\n",
      "False\n"
     ]
    }
   ],
   "source": [
    "print(str(\"20\"))\n",
    "print(str(2+2j))\n",
    "print(str(\"20.2\"))\n",
    "print(str(True))\n",
    "print(str(False))"
   ]
  },
  {
   "cell_type": "markdown",
   "id": "be5a3f86",
   "metadata": {},
   "source": [
    "# bool()"
   ]
  },
  {
   "cell_type": "code",
   "execution_count": 35,
   "id": "786650d5",
   "metadata": {},
   "outputs": [
    {
     "name": "stdout",
     "output_type": "stream",
     "text": [
      "True\n",
      "True\n",
      "True\n",
      "True\n",
      "False\n"
     ]
    }
   ],
   "source": [
    "print(bool(\"20\"))\n",
    "print(bool(2+2j))\n",
    "print(bool(\"20.2\"))\n",
    "print(bool(True))\n",
    "print(bool(False))"
   ]
  },
  {
   "cell_type": "code",
   "execution_count": null,
   "id": "862d3a90",
   "metadata": {},
   "outputs": [],
   "source": []
  }
 ],
 "metadata": {
  "kernelspec": {
   "display_name": "Python 3 (ipykernel)",
   "language": "python",
   "name": "python3"
  },
  "language_info": {
   "codemirror_mode": {
    "name": "ipython",
    "version": 3
   },
   "file_extension": ".py",
   "mimetype": "text/x-python",
   "name": "python",
   "nbconvert_exporter": "python",
   "pygments_lexer": "ipython3",
   "version": "3.11.3"
  }
 },
 "nbformat": 4,
 "nbformat_minor": 5
}
