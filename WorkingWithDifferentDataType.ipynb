{
 "cells": [
  {
   "cell_type": "markdown",
   "id": "a45e053e",
   "metadata": {},
   "source": [
    "# Operands = int"
   ]
  },
  {
   "cell_type": "code",
   "execution_count": 6,
   "id": "8affa37e",
   "metadata": {},
   "outputs": [
    {
     "name": "stdout",
     "output_type": "stream",
     "text": [
      "4\n",
      "15.3\n"
     ]
    }
   ],
   "source": [
    "print(2+2) # Operands = int\n",
    "print(0.8+5.6+8.9)# Operands = float"
   ]
  },
  {
   "cell_type": "markdown",
   "id": "fde266a7",
   "metadata": {},
   "source": [
    "# Operands = str"
   ]
  },
  {
   "cell_type": "code",
   "execution_count": 7,
   "id": "30d4f0ab",
   "metadata": {},
   "outputs": [
    {
     "name": "stdout",
     "output_type": "stream",
     "text": [
      "543\n"
     ]
    }
   ],
   "source": [
    "s = \"5\"+\"4\"+\"3\"\n",
    "print(s)"
   ]
  },
  {
   "cell_type": "markdown",
   "id": "8f3ddf68",
   "metadata": {},
   "source": [
    "ข้อควรระวัง"
   ]
  },
  {
   "cell_type": "code",
   "execution_count": 8,
   "id": "20b5cc83",
   "metadata": {},
   "outputs": [
    {
     "ename": "TypeError",
     "evalue": "can only concatenate str (not \"int\") to str",
     "output_type": "error",
     "traceback": [
      "\u001b[1;31m---------------------------------------------------------------------------\u001b[0m",
      "\u001b[1;31mTypeError\u001b[0m                                 Traceback (most recent call last)",
      "Cell \u001b[1;32mIn[8], line 2\u001b[0m\n\u001b[0;32m      1\u001b[0m x \u001b[38;5;241m=\u001b[39m \u001b[38;5;241m32\u001b[39m\n\u001b[1;32m----> 2\u001b[0m \u001b[38;5;28mprint\u001b[39m(\u001b[38;5;124;43m\"\u001b[39;49m\u001b[38;5;124;43mThis is number \u001b[39;49m\u001b[38;5;124;43m\"\u001b[39;49m\u001b[43m \u001b[49m\u001b[38;5;241;43m+\u001b[39;49m\u001b[43m \u001b[49m\u001b[43mx\u001b[49m)\n",
      "\u001b[1;31mTypeError\u001b[0m: can only concatenate str (not \"int\") to str"
     ]
    }
   ],
   "source": [
    "x = 32\n",
    "print(\"This is number \" + x)"
   ]
  },
  {
   "cell_type": "markdown",
   "id": "27fa526c",
   "metadata": {},
   "source": [
    "# String multiplication"
   ]
  },
  {
   "cell_type": "code",
   "execution_count": null,
   "id": "b3ef05ad",
   "metadata": {},
   "outputs": [],
   "source": []
  }
 ],
 "metadata": {
  "kernelspec": {
   "display_name": "Python 3 (ipykernel)",
   "language": "python",
   "name": "python3"
  },
  "language_info": {
   "codemirror_mode": {
    "name": "ipython",
    "version": 3
   },
   "file_extension": ".py",
   "mimetype": "text/x-python",
   "name": "python",
   "nbconvert_exporter": "python",
   "pygments_lexer": "ipython3",
   "version": "3.11.3"
  }
 },
 "nbformat": 4,
 "nbformat_minor": 5
}
