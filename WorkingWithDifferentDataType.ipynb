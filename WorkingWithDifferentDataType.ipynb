{
 "cells": [
  {
   "cell_type": "markdown",
   "id": "839f734f",
   "metadata": {},
   "source": [
    "# Operands = int"
   ]
  },
  {
   "cell_type": "code",
   "execution_count": 6,
   "id": "3d43e63f",
   "metadata": {},
   "outputs": [
    {
     "name": "stdout",
     "output_type": "stream",
     "text": [
      "4\n",
      "15.3\n"
     ]
    }
   ],
   "source": [
    "print(2+2) # Operands = int\n",
    "print(0.8+5.6+8.9)# Operands = float"
   ]
  },
  {
   "cell_type": "markdown",
   "id": "72f65d1f",
   "metadata": {},
   "source": [
    "# Operands = str"
   ]
  },
  {
   "cell_type": "code",
   "execution_count": 7,
   "id": "1516c0aa",
   "metadata": {},
   "outputs": [
    {
     "name": "stdout",
     "output_type": "stream",
     "text": [
      "543\n"
     ]
    }
   ],
   "source": [
    "s = \"5\"+\"4\"+\"3\"\n",
    "print(s)"
   ]
  },
  {
   "cell_type": "markdown",
   "id": "0bd7f9f8",
   "metadata": {},
   "source": [
    "ข้อควรระวัง"
   ]
  },
  {
   "cell_type": "code",
   "execution_count": 8,
   "id": "a0311a45",
   "metadata": {},
   "outputs": [
    {
     "ename": "TypeError",
     "evalue": "can only concatenate str (not \"int\") to str",
     "output_type": "error",
     "traceback": [
      "\u001b[1;31m---------------------------------------------------------------------------\u001b[0m",
      "\u001b[1;31mTypeError\u001b[0m                                 Traceback (most recent call last)",
      "Cell \u001b[1;32mIn[8], line 2\u001b[0m\n\u001b[0;32m      1\u001b[0m x \u001b[38;5;241m=\u001b[39m \u001b[38;5;241m32\u001b[39m\n\u001b[1;32m----> 2\u001b[0m \u001b[38;5;28mprint\u001b[39m(\u001b[38;5;124;43m\"\u001b[39;49m\u001b[38;5;124;43mThis is number \u001b[39;49m\u001b[38;5;124;43m\"\u001b[39;49m\u001b[43m \u001b[49m\u001b[38;5;241;43m+\u001b[39;49m\u001b[43m \u001b[49m\u001b[43mx\u001b[49m)\n",
      "\u001b[1;31mTypeError\u001b[0m: can only concatenate str (not \"int\") to str"
     ]
    }
   ],
   "source": [
    "x = 32\n",
    "print(\"This is number \" + x)"
   ]
  },
  {
   "cell_type": "markdown",
   "id": "e30249d8",
   "metadata": {},
   "source": [
    "# String multiplication"
   ]
  },
  {
   "cell_type": "code",
   "execution_count": 13,
   "id": "b6ece0b5",
   "metadata": {},
   "outputs": [
    {
     "name": "stdout",
     "output_type": "stream",
     "text": [
      "EI EIEI EIEI EIEI EIEI EIEI EIEI EIEI EIEI EIEI EI\n",
      "XDXDXDXDXD\n"
     ]
    }
   ],
   "source": [
    "print(\"EI EI\"*10)\n",
    "print(\"XD\"*5)"
   ]
  },
  {
   "cell_type": "markdown",
   "id": "a123fb93",
   "metadata": {},
   "source": [
    "ข้อควรระวัง operand จะต้องเป็น int เท่านั้น"
   ]
  },
  {
   "cell_type": "code",
   "execution_count": 14,
   "id": "5fcbba98",
   "metadata": {},
   "outputs": [
    {
     "ename": "TypeError",
     "evalue": "can't multiply sequence by non-int of type 'float'",
     "output_type": "error",
     "traceback": [
      "\u001b[1;31m---------------------------------------------------------------------------\u001b[0m",
      "\u001b[1;31mTypeError\u001b[0m                                 Traceback (most recent call last)",
      "Cell \u001b[1;32mIn[14], line 1\u001b[0m\n\u001b[1;32m----> 1\u001b[0m \u001b[38;5;28mprint\u001b[39m(\u001b[38;5;124;43m\"\u001b[39;49m\u001b[38;5;124;43mHI GUY\u001b[39;49m\u001b[38;5;124;43m\"\u001b[39;49m\u001b[38;5;241;43m*\u001b[39;49m\u001b[38;5;241;43m4.5\u001b[39;49m)\n",
      "\u001b[1;31mTypeError\u001b[0m: can't multiply sequence by non-int of type 'float'"
     ]
    }
   ],
   "source": [
    "print(\"HI GUY\"*4.5)"
   ]
  },
  {
   "cell_type": "markdown",
   "id": "10e8a234",
   "metadata": {},
   "source": [
    "# Implicit Data Type Conversion\n",
    "python จะแปลงข้อมูลให้เองเกิดขึ้นได้โดยอัตโนมัต\n",
    "จะแปลงจากdata types ที่น้อยกว่าให้ตัวที่เก็บข้อมูลได้มากกว่า"
   ]
  },
  {
   "cell_type": "code",
   "execution_count": 16,
   "id": "155097cb",
   "metadata": {},
   "outputs": [
    {
     "name": "stdout",
     "output_type": "stream",
     "text": [
      "67.5\n",
      "<class 'float'>\n"
     ]
    }
   ],
   "source": [
    "print(35 + 32.50)\n",
    "print(type(35 + 32.50))"
   ]
  },
  {
   "cell_type": "code",
   "execution_count": 18,
   "id": "3363d2ca",
   "metadata": {},
   "outputs": [
    {
     "name": "stdout",
     "output_type": "stream",
     "text": [
      "<class 'complex'>\n",
      "<class 'complex'>\n"
     ]
    }
   ],
   "source": [
    "print(type(1+1j+0.5))\n",
    "print(type(5+6j+0.56+5.3))"
   ]
  },
  {
   "cell_type": "markdown",
   "id": "5f840c13",
   "metadata": {},
   "source": [
    "# Explicit Data "
   ]
  }
 ],
 "metadata": {
  "kernelspec": {
   "display_name": "Python 3 (ipykernel)",
   "language": "python",
   "name": "python3"
  },
  "language_info": {
   "codemirror_mode": {
    "name": "ipython",
    "version": 3
   },
   "file_extension": ".py",
   "mimetype": "text/x-python",
   "name": "python",
   "nbconvert_exporter": "python",
   "pygments_lexer": "ipython3",
   "version": "3.11.3"
  }
 },
 "nbformat": 4,
 "nbformat_minor": 5
}
