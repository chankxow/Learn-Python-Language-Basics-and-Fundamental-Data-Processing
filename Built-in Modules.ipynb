{
 "cells": [
  {
   "cell_type": "markdown",
   "id": "5cbb08e2",
   "metadata": {},
   "source": [
    "# BUILT-IN MODULES\n",
    "ก่อนจะใช้โมดูลได้ต้องใช้การ import ก่อน\n"
   ]
  },
  {
   "cell_type": "markdown",
   "id": "45eddf50",
   "metadata": {},
   "source": [
    "## math"
   ]
  },
  {
   "cell_type": "code",
   "execution_count": 5,
   "id": "5f7f61c2",
   "metadata": {},
   "outputs": [
    {
     "name": "stdout",
     "output_type": "stream",
     "text": [
      "<module 'math' (built-in)>\n"
     ]
    }
   ],
   "source": [
    "import math\n",
    "print(math)"
   ]
  },
  {
   "cell_type": "markdown",
   "id": "18c0c0c3",
   "metadata": {},
   "source": [
    "### ACCESSING VALUES AND FUNCTIONS IN THE MODULE"
   ]
  },
  {
   "cell_type": "code",
   "execution_count": 4,
   "id": "c02f02df",
   "metadata": {},
   "outputs": [
    {
     "name": "stdout",
     "output_type": "stream",
     "text": [
      "3.141592653589793\n",
      "120\n"
     ]
    }
   ],
   "source": [
    "# มาลองทดสอบโมดูล\n",
    "print(math.pi)\n",
    "# ทดลองหาค่า ! \n",
    "print(math.factorial(5))"
   ]
  },
  {
   "cell_type": "markdown",
   "id": "c615c82a",
   "metadata": {},
   "source": [
    "#### EXAMPLE 1 SQUARE ROOT FINDER"
   ]
  },
  {
   "cell_type": "code",
   "execution_count": 10,
   "id": "a4760f08",
   "metadata": {},
   "outputs": [
    {
     "name": "stdout",
     "output_type": "stream",
     "text": [
      "enter an integer n: 144\n",
      "the square root of the : 144 is 12.0.\n"
     ]
    }
   ],
   "source": [
    "n = int(input(\"enter an integer n: \"))\n",
    "result = math.sqrt(n)\n",
    "print(\"the square root of the : \"+ str(n) + \" is \"+str(result)+\".\")"
   ]
  },
  {
   "cell_type": "markdown",
   "id": "e1d32bac",
   "metadata": {},
   "source": [
    "#### EXAMPLE 2 GREATEST COMMON DEVISOR FINDER"
   ]
  },
  {
   "cell_type": "code",
   "execution_count": 12,
   "id": "6650859e",
   "metadata": {},
   "outputs": [
    {
     "name": "stdout",
     "output_type": "stream",
     "text": [
      "Enter the 1st int : 14\n",
      "Enter the 2nd int : 21\n",
      "Enter the 3rd int : 35\n",
      "the GCD is 7\n"
     ]
    }
   ],
   "source": [
    "n1 = int(input(\"Enter the 1st int : \"))\n",
    "n2 = int(input(\"Enter the 2nd int : \"))\n",
    "n3 = int(input(\"Enter the 3rd int : \"))\n",
    "\n",
    "result = math.gcd(n1,n2,n3) # GCD = GREATEST COMMON DIVISOR\n",
    "\n",
    "print(\"the GCD is \"+str(result))"
   ]
  },
  {
   "cell_type": "markdown",
   "id": "84193a54",
   "metadata": {},
   "source": [
    "## Renaming the modules\n",
    "\n",
    "ใช้ import `module` as `name`"
   ]
  },
  {
   "cell_type": "code",
   "execution_count": 14,
   "id": "25da7568",
   "metadata": {},
   "outputs": [
    {
     "name": "stdout",
     "output_type": "stream",
     "text": [
      "3.141592653589793\n"
     ]
    }
   ],
   "source": [
    "import math as m\n",
    "print(m.pi)"
   ]
  },
  {
   "cell_type": "markdown",
   "id": "df46a30f",
   "metadata": {},
   "source": [
    "### importing specific /function in the module\n",
    "นำเข้าแค่ฟังชั่นที่ต้องการ"
   ]
  },
  {
   "cell_type": "code",
   "execution_count": 16,
   "id": "b99a4c38",
   "metadata": {},
   "outputs": [
    {
     "name": "stdout",
     "output_type": "stream",
     "text": [
      "5.0\n"
     ]
    }
   ],
   "source": [
    "from math import sqrt\n",
    "print(sqrt(25))"
   ]
  },
  {
   "cell_type": "code",
   "execution_count": 18,
   "id": "40caa8b7",
   "metadata": {},
   "outputs": [
    {
     "name": "stdout",
     "output_type": "stream",
     "text": [
      "120\n"
     ]
    }
   ],
   "source": [
    "from math import sqrt,factorial as fact\n",
    "print(fact(5))"
   ]
  },
  {
   "cell_type": "markdown",
   "id": "2dde95be",
   "metadata": {},
   "source": [
    "### ถ้าอยากนำทุกฟังชันโมดูลเข้ามาแต่ไม่นำตัวโมดูลเข้าต้องใช้"
   ]
  },
  {
   "cell_type": "code",
   "execution_count": null,
   "id": "2ea736fe",
   "metadata": {},
   "outputs": [],
   "source": [
    "from math import"
   ]
  }
 ],
 "metadata": {
  "kernelspec": {
   "display_name": "Python 3 (ipykernel)",
   "language": "python",
   "name": "python3"
  },
  "language_info": {
   "codemirror_mode": {
    "name": "ipython",
    "version": 3
   },
   "file_extension": ".py",
   "mimetype": "text/x-python",
   "name": "python",
   "nbconvert_exporter": "python",
   "pygments_lexer": "ipython3",
   "version": "3.11.3"
  }
 },
 "nbformat": 4,
 "nbformat_minor": 5
}
