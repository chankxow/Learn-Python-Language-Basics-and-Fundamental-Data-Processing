{
 "cells": [
  {
   "cell_type": "markdown",
   "id": "56f55091",
   "metadata": {},
   "source": [
    "# BUILT-IN MODULES\n",
    "ก่อนจะใช้โมดูลได้ต้องใช้การ import ก่อน\n"
   ]
  },
  {
   "cell_type": "markdown",
   "id": "1a4062ab",
   "metadata": {},
   "source": [
    "## math"
   ]
  },
  {
   "cell_type": "code",
   "execution_count": 5,
   "id": "caad7bef",
   "metadata": {},
   "outputs": [
    {
     "name": "stdout",
     "output_type": "stream",
     "text": [
      "<module 'math' (built-in)>\n"
     ]
    }
   ],
   "source": [
    "import math\n",
    "print(math)"
   ]
  },
  {
   "cell_type": "markdown",
   "id": "641db279",
   "metadata": {},
   "source": [
    "### ACCESSING VALUES AND FUNCTIONS IN THE MODULE"
   ]
  },
  {
   "cell_type": "code",
   "execution_count": 4,
   "id": "1fbd303d",
   "metadata": {},
   "outputs": [
    {
     "name": "stdout",
     "output_type": "stream",
     "text": [
      "3.141592653589793\n",
      "120\n"
     ]
    }
   ],
   "source": [
    "# มาลองทดสอบโมดูล\n",
    "print(math.pi)\n",
    "# ทดลองหาค่า ! \n",
    "print(math.factorial(5))"
   ]
  },
  {
   "cell_type": "markdown",
   "id": "8b22a38c",
   "metadata": {},
   "source": [
    "#### EXAMPLE 1 SQUARE ROOT FINDER"
   ]
  },
  {
   "cell_type": "code",
   "execution_count": 10,
   "id": "eeab9b7c",
   "metadata": {},
   "outputs": [
    {
     "name": "stdout",
     "output_type": "stream",
     "text": [
      "enter an integer n: 144\n",
      "the square root of the : 144 is 12.0.\n"
     ]
    }
   ],
   "source": [
    "n = int(input(\"enter an integer n: \"))\n",
    "result = math.sqrt(n)\n",
    "print(\"the square root of the : \"+ str(n) + \" is \"+str(result)+\".\")"
   ]
  },
  {
   "cell_type": "markdown",
   "id": "fcda7f83",
   "metadata": {},
   "source": [
    "#### EXAMPLE 2 GREATEST COMMON DEVISOR FINDER"
   ]
  },
  {
   "cell_type": "code",
   "execution_count": 12,
   "id": "1cedff95",
   "metadata": {},
   "outputs": [
    {
     "name": "stdout",
     "output_type": "stream",
     "text": [
      "Enter the 1st int : 14\n",
      "Enter the 2nd int : 21\n",
      "Enter the 3rd int : 35\n",
      "the GCD is 7\n"
     ]
    }
   ],
   "source": [
    "n1 = int(input(\"Enter the 1st int : \"))\n",
    "n2 = int(input(\"Enter the 2nd int : \"))\n",
    "n3 = int(input(\"Enter the 3rd int : \"))\n",
    "\n",
    "result = math.gcd(n1,n2,n3) # GCD = GREATEST COMMON DIVISOR\n",
    "\n",
    "print(\"the GCD is \"+str(result))"
   ]
  },
  {
   "cell_type": "markdown",
   "id": "1b516cd0",
   "metadata": {},
   "source": [
    "## Renaming the modules\n",
    "\n",
    "ใช้ import `module` as `name`"
   ]
  },
  {
   "cell_type": "code",
   "execution_count": 14,
   "id": "9b2757c3",
   "metadata": {},
   "outputs": [
    {
     "name": "stdout",
     "output_type": "stream",
     "text": [
      "3.141592653589793\n"
     ]
    }
   ],
   "source": [
    "import math as m\n",
    "print(m.pi)"
   ]
  },
  {
   "cell_type": "code",
   "execution_count": null,
   "id": "f215c40c",
   "metadata": {},
   "outputs": [],
   "source": []
  }
 ],
 "metadata": {
  "kernelspec": {
   "display_name": "Python 3 (ipykernel)",
   "language": "python",
   "name": "python3"
  },
  "language_info": {
   "codemirror_mode": {
    "name": "ipython",
    "version": 3
   },
   "file_extension": ".py",
   "mimetype": "text/x-python",
   "name": "python",
   "nbconvert_exporter": "python",
   "pygments_lexer": "ipython3",
   "version": "3.11.3"
  }
 },
 "nbformat": 4,
 "nbformat_minor": 5
}
