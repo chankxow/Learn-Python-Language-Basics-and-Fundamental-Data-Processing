{
 "cells": [
  {
   "cell_type": "markdown",
   "id": "a0f159b2",
   "metadata": {},
   "source": [
    "# Beginning Data Types in Python\n",
    "\n",
    "ตัว Data types ในภาษา python\n",
    "\n",
    "## Number \n",
    "- `int` สำหรับจำนวนเต็ม\n",
    "- `float` สำหรับจำนวนจริง\n",
    "- `complex` สำหรับจำนวนเชิงช้อน "
   ]
  },
  {
   "cell_type": "markdown",
   "id": "d9cd09e6",
   "metadata": {},
   "source": [
    "`int` จะเป็นจำนวนเต็มไม่มีทศนิยม"
   ]
  },
  {
   "cell_type": "code",
   "execution_count": 1,
   "id": "4aa71065",
   "metadata": {},
   "outputs": [
    {
     "name": "stdout",
     "output_type": "stream",
     "text": [
      "4800\n",
      "9600\n",
      "15200\n"
     ]
    }
   ],
   "source": [
    "print(4800)\n",
    "print(9600)\n",
    "print(15200)"
   ]
  },
  {
   "cell_type": "markdown",
   "id": "a9efa295",
   "metadata": {},
   "source": [
    "`Type` ใช้ในการเชคข้อมูล data types  ว่าเป็นประเภทไหน"
   ]
  },
  {
   "cell_type": "code",
   "execution_count": 4,
   "id": "596e31c3",
   "metadata": {},
   "outputs": [
    {
     "name": "stdout",
     "output_type": "stream",
     "text": [
      "<class 'float'>\n",
      "<class 'str'>\n",
      "<class 'int'>\n",
      "<class 'complex'>\n"
     ]
    }
   ],
   "source": [
    "print(type(2.2)) #float\n",
    "print(type(\"55\")) #str\n",
    "print(type(32)) #int\n",
    "print(type(2+5j)) #complex"
   ]
  },
  {
   "cell_type": "markdown",
   "id": "981e1ad0",
   "metadata": {},
   "source": [
    "ระวังไว้ว่า j นั้นไม่ใช่ตัวจำนวนเชิงซ้อน"
   ]
  },
  {
   "cell_type": "code",
   "execution_count": 5,
   "id": "c2c68cf0",
   "metadata": {},
   "outputs": [
    {
     "ename": "NameError",
     "evalue": "name 'j' is not defined",
     "output_type": "error",
     "traceback": [
      "\u001b[1;31m---------------------------------------------------------------------------\u001b[0m",
      "\u001b[1;31mNameError\u001b[0m                                 Traceback (most recent call last)",
      "Cell \u001b[1;32mIn[5], line 1\u001b[0m\n\u001b[1;32m----> 1\u001b[0m \u001b[38;5;28mprint\u001b[39m(\u001b[43mj\u001b[49m)\n",
      "\u001b[1;31mNameError\u001b[0m: name 'j' is not defined"
     ]
    }
   ],
   "source": [
    "print(j)"
   ]
  },
  {
   "cell_type": "markdown",
   "id": "5ef796aa",
   "metadata": {},
   "source": [
    "## String\n",
    "สตริงจะเป็นข้อมูลแบบอักขระ \n",
    "ที่ต้องเขียนโดยใช้ \n",
    "- single quotes\n",
    "- double quotes\n",
    "- triple quotes"
   ]
  },
  {
   "cell_type": "code",
   "execution_count": 7,
   "id": "f9035d6e",
   "metadata": {},
   "outputs": [
    {
     "name": "stdout",
     "output_type": "stream",
     "text": [
      "Hello\n",
      "Hello\n",
      "Hello\n"
     ]
    }
   ],
   "source": [
    "print('Hello1')\n",
    "print(\"Hello2\")\n",
    "print('''Hello3''')"
   ]
  },
  {
   "cell_type": "markdown",
   "id": "427336e6",
   "metadata": {},
   "source": [
    "หากเราต้องการเขียน '' ลงในข้อความนั้นจะต้องเขียนให้แตกต่าง"
   ]
  },
  {
   "cell_type": "code",
   "execution_count": 8,
   "id": "e6206c6c",
   "metadata": {},
   "outputs": [
    {
     "ename": "SyntaxError",
     "evalue": "invalid syntax. Perhaps you forgot a comma? (2246146920.py, line 1)",
     "output_type": "error",
     "traceback": [
      "\u001b[1;36m  Cell \u001b[1;32mIn[8], line 1\u001b[1;36m\u001b[0m\n\u001b[1;33m    print('This 'IS'')\u001b[0m\n\u001b[1;37m          ^\u001b[0m\n\u001b[1;31mSyntaxError\u001b[0m\u001b[1;31m:\u001b[0m invalid syntax. Perhaps you forgot a comma?\n"
     ]
    }
   ],
   "source": [
    "print('This 'IS'')"
   ]
  },
  {
   "cell_type": "markdown",
   "id": "0a26f70b",
   "metadata": {},
   "source": [
    "อันนี้คือผิด"
   ]
  },
  {
   "cell_type": "code",
   "execution_count": 9,
   "id": "3fe02657",
   "metadata": {},
   "outputs": [
    {
     "name": "stdout",
     "output_type": "stream",
     "text": [
      "This \"IS\"\n"
     ]
    }
   ],
   "source": [
    "print('This \"IS\"')"
   ]
  },
  {
   "cell_type": "markdown",
   "id": "67f19738",
   "metadata": {},
   "source": [
    "อันนี้ถูก"
   ]
  },
  {
   "cell_type": "markdown",
   "id": "4dd2af9f",
   "metadata": {},
   "source": [
    "หรือจะเขียนโดยใช้ `\\` ก็ได้"
   ]
  },
  {
   "cell_type": "code",
   "execution_count": 16,
   "id": "b565ef9b",
   "metadata": {},
   "outputs": [
    {
     "name": "stdout",
     "output_type": "stream",
     "text": [
      "He said \"Hello\"\n",
      "I say \"Hello\".\n"
     ]
    }
   ],
   "source": [
    "print(\"He said \\\"Hello\\\"\")\n",
    "print(\"I say \\\"Hello\\\".\")"
   ]
  },
  {
   "cell_type": "code",
   "execution_count": null,
   "id": "ec2a344f",
   "metadata": {},
   "outputs": [],
   "source": []
  }
 ],
 "metadata": {
  "kernelspec": {
   "display_name": "Python 3 (ipykernel)",
   "language": "python",
   "name": "python3"
  },
  "language_info": {
   "codemirror_mode": {
    "name": "ipython",
    "version": 3
   },
   "file_extension": ".py",
   "mimetype": "text/x-python",
   "name": "python",
   "nbconvert_exporter": "python",
   "pygments_lexer": "ipython3",
   "version": "3.11.3"
  }
 },
 "nbformat": 4,
 "nbformat_minor": 5
}
