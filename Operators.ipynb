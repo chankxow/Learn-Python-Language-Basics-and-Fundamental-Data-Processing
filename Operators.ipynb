{
 "cells": [
  {
   "cell_type": "markdown",
   "id": "1e15b5d0",
   "metadata": {},
   "source": [
    "# Operators \n",
    "\n",
    "ตัวดำเนินการ\n",
    "ตัวแปรที่ถูกนำมาประมวลผล คือ operand"
   ]
  },
  {
   "cell_type": "markdown",
   "id": "b0697e77",
   "metadata": {},
   "source": [
    "### Arithmetic Operators\n",
    "\n",
    "ตัวดำเนินการทางคณิตศาสตร์\n",
    "- บวก\n",
    "- ลบ\n",
    "- คูณ\n",
    "- หาร"
   ]
  },
  {
   "cell_type": "code",
   "execution_count": 6,
   "id": "6c11812f",
   "metadata": {},
   "outputs": [
    {
     "name": "stdout",
     "output_type": "stream",
     "text": [
      "60\n",
      "-40\n",
      "500\n",
      "0.2\n"
     ]
    }
   ],
   "source": [
    "x = 10\n",
    "y = 50\n",
    "print(x+y) #บวก\n",
    "print(x-y) #ลบ\n",
    "print(x*y) #คูณ\n",
    "print(x/y) #หาร"
   ]
  },
  {
   "cell_type": "markdown",
   "id": "35452384",
   "metadata": {},
   "source": [
    "### Unary Minus\n",
    "คือ นิเสธ ของ operand"
   ]
  },
  {
   "cell_type": "code",
   "execution_count": 7,
   "id": "590710e1",
   "metadata": {},
   "outputs": [
    {
     "name": "stdout",
     "output_type": "stream",
     "text": [
      "-2\n",
      "5\n"
     ]
    }
   ],
   "source": [
    "a = 2\n",
    "b= -5\n",
    "\n",
    "print(-a)\n",
    "print(-b)"
   ]
  },
  {
   "cell_type": "markdown",
   "id": "9ca2d9e3",
   "metadata": {},
   "source": [
    "### Modulus \n",
    "คือการหารเอาเศษ\n",
    "เครื่องหมาย `%`\n"
   ]
  },
  {
   "cell_type": "code",
   "execution_count": 8,
   "id": "2f94838d",
   "metadata": {},
   "outputs": [
    {
     "name": "stdout",
     "output_type": "stream",
     "text": [
      "0\n",
      "0\n",
      "4\n"
     ]
    }
   ],
   "source": [
    "x = 60\n",
    "print(x % 5)\n",
    "print(x % 15)\n",
    "print(x % 14)"
   ]
  },
  {
   "cell_type": "markdown",
   "id": "6a624546",
   "metadata": {},
   "source": [
    "### Exponentation\n",
    "การยกกำลัง จะใช้เครื่องหมาย `**`"
   ]
  },
  {
   "cell_type": "code",
   "execution_count": 9,
   "id": "4893b986",
   "metadata": {},
   "outputs": [
    {
     "name": "stdout",
     "output_type": "stream",
     "text": [
      "25\n",
      "125\n",
      "9765625\n"
     ]
    }
   ],
   "source": [
    "x = 5\n",
    "y = 10\n",
    "print(x ** 2)\n",
    "print(x ** 3)\n",
    "print(x ** y)"
   ]
  },
  {
   "cell_type": "markdown",
   "id": "4a468700",
   "metadata": {},
   "source": []
  },
  {
   "cell_type": "markdown",
   "id": "0980f09b",
   "metadata": {},
   "source": [
    "### Floor Division\n",
    "การหารไม่เอาเศษหรือปัดเศษลงเครื่องหมาย `//`"
   ]
  },
  {
   "cell_type": "code",
   "execution_count": 11,
   "id": "e06f0f37",
   "metadata": {},
   "outputs": [
    {
     "name": "stdout",
     "output_type": "stream",
     "text": [
      "1.0\n",
      "1.0\n",
      "13.75\n",
      "13\n"
     ]
    }
   ],
   "source": [
    "print(33/33)\n",
    "print(33/33)\n",
    "print(55/4)\n",
    "print(55//4)"
   ]
  },
  {
   "cell_type": "markdown",
   "id": "0a9aa375",
   "metadata": {},
   "source": [
    "### Compound Assignment operators\n",
    "เป็นการกำหนดค่าตัวประกอบลงไปแทนที่ค่าเดิม"
   ]
  },
  {
   "cell_type": "code",
   "execution_count": 15,
   "id": "ad4a5506",
   "metadata": {},
   "outputs": [
    {
     "name": "stdout",
     "output_type": "stream",
     "text": [
      "15\n",
      "25\n",
      "100\n",
      "3200000\n"
     ]
    }
   ],
   "source": [
    "a = b = c = d =20\n",
    "a -= 5\n",
    "print(a)\n",
    "b += 5\n",
    "print(b)\n",
    "c *= 5\n",
    "print(c)\n",
    "d **= 5\n",
    "print(d)"
   ]
  },
  {
   "cell_type": "markdown",
   "id": "e595a51f",
   "metadata": {},
   "source": [
    "### Comparison Operators\n",
    "คือการเปรียนเทียบว่า `True` or `False`"
   ]
  },
  {
   "cell_type": "code",
   "execution_count": 16,
   "id": "fbac56ea",
   "metadata": {},
   "outputs": [
    {
     "name": "stdout",
     "output_type": "stream",
     "text": [
      "True\n",
      "False\n"
     ]
    }
   ],
   "source": [
    "x = 20\n",
    "print(x == 20)\n",
    "print(x != 20)\n"
   ]
  },
  {
   "cell_type": "markdown",
   "id": "43962d04",
   "metadata": {},
   "source": [
    "### Logical Operators\n",
    "คือ การหาค่าตรรกศาตร์ `True` หรือ `False` โดยจะใช้ `and , or , not` \n"
   ]
  },
  {
   "cell_type": "markdown",
   "id": "0fa5561d",
   "metadata": {},
   "source": [
    "#### 'AND'\n",
    "จะให้ค่า`True`ก็ต่อเมื่อตัวแปรเป็นTrueทั้งสอง\n"
   ]
  },
  {
   "cell_type": "code",
   "execution_count": 17,
   "id": "c132eb4d",
   "metadata": {},
   "outputs": [
    {
     "name": "stdout",
     "output_type": "stream",
     "text": [
      "True\n",
      "False\n",
      "False\n"
     ]
    }
   ],
   "source": [
    "p = True\n",
    "q = False\n",
    "print(p and p)\n",
    "print(q and p )\n",
    "print(q and q)"
   ]
  },
  {
   "cell_type": "markdown",
   "id": "91e5d1a7",
   "metadata": {},
   "source": [
    "#### 'OR'\n",
    "จะให้ค่า `False` ก็ต่อเมื่อทั้งคู่เป็น False"
   ]
  },
  {
   "cell_type": "code",
   "execution_count": 18,
   "id": "953d10bb",
   "metadata": {},
   "outputs": [
    {
     "name": "stdout",
     "output_type": "stream",
     "text": [
      "True\n",
      "True\n",
      "False\n"
     ]
    }
   ],
   "source": [
    "p =True\n",
    "q=False\n",
    "print(p or p)\n",
    "print(q or p )\n",
    "print(q or q)"
   ]
  },
  {
   "cell_type": "markdown",
   "id": "60519f78",
   "metadata": {},
   "source": [
    "#### 'NOT'\n",
    "การนิเสธ\n"
   ]
  },
  {
   "cell_type": "code",
   "execution_count": 19,
   "id": "0f83f740",
   "metadata": {},
   "outputs": [
    {
     "name": "stdout",
     "output_type": "stream",
     "text": [
      "False\n",
      "True\n"
     ]
    }
   ],
   "source": [
    "p = True\n",
    "q =False\n",
    "print(not p)\n",
    "print(not q)"
   ]
  },
  {
   "cell_type": "code",
   "execution_count": 21,
   "id": "56602981",
   "metadata": {},
   "outputs": [
    {
     "name": "stdout",
     "output_type": "stream",
     "text": [
      "Tell me your name : jojo\n",
      "False\n"
     ]
    }
   ],
   "source": [
    "Username = input(\"Tell me your name : \")\n",
    "print(Username == \"John\" or  Username == \"Jenny\")\n"
   ]
  },
  {
   "cell_type": "code",
   "execution_count": null,
   "id": "603a0815",
   "metadata": {},
   "outputs": [],
   "source": []
  }
 ],
 "metadata": {
  "kernelspec": {
   "display_name": "Python 3 (ipykernel)",
   "language": "python",
   "name": "python3"
  },
  "language_info": {
   "codemirror_mode": {
    "name": "ipython",
    "version": 3
   },
   "file_extension": ".py",
   "mimetype": "text/x-python",
   "name": "python",
   "nbconvert_exporter": "python",
   "pygments_lexer": "ipython3",
   "version": "3.11.3"
  }
 },
 "nbformat": 4,
 "nbformat_minor": 5
}
