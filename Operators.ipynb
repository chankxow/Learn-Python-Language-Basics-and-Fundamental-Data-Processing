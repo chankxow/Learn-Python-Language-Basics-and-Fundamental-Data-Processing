{
 "cells": [
  {
   "cell_type": "markdown",
   "id": "baeaa096",
   "metadata": {},
   "source": [
    "# Operators \n",
    "\n",
    "ตัวดำเนินการ\n",
    "ตัวแปรที่ถูกนำมาประมวลผล คือ operand"
   ]
  },
  {
   "cell_type": "markdown",
   "id": "073249f9",
   "metadata": {},
   "source": [
    "### Arithmetic Operators\n",
    "\n",
    "ตัวดำเนินการทางคณิตศาสตร์\n",
    "- บวก\n",
    "- ลบ\n",
    "- คูณ\n",
    "- หาร"
   ]
  },
  {
   "cell_type": "code",
   "execution_count": 6,
   "id": "fd711e17",
   "metadata": {},
   "outputs": [
    {
     "name": "stdout",
     "output_type": "stream",
     "text": [
      "60\n",
      "-40\n",
      "500\n",
      "0.2\n"
     ]
    }
   ],
   "source": [
    "x = 10\n",
    "y = 50\n",
    "print(x+y) #บวก\n",
    "print(x-y) #ลบ\n",
    "print(x*y) #คูณ\n",
    "print(x/y) #หาร"
   ]
  },
  {
   "cell_type": "markdown",
   "id": "8a07d4d9",
   "metadata": {},
   "source": [
    "### Unary Minus\n",
    "คือ นิเสธ ของ operand"
   ]
  },
  {
   "cell_type": "code",
   "execution_count": 7,
   "id": "e4f565db",
   "metadata": {},
   "outputs": [
    {
     "name": "stdout",
     "output_type": "stream",
     "text": [
      "-2\n",
      "5\n"
     ]
    }
   ],
   "source": [
    "a = 2\n",
    "b= -5\n",
    "\n",
    "print(-a)\n",
    "print(-b)"
   ]
  },
  {
   "cell_type": "markdown",
   "id": "59295e40",
   "metadata": {},
   "source": [
    "### Modulus \n",
    "คือการหารเอาเศษ\n",
    "เครื่องหมาย `%`\n"
   ]
  },
  {
   "cell_type": "code",
   "execution_count": 8,
   "id": "95c49fd1",
   "metadata": {},
   "outputs": [
    {
     "name": "stdout",
     "output_type": "stream",
     "text": [
      "0\n",
      "0\n",
      "4\n"
     ]
    }
   ],
   "source": [
    "x = 60\n",
    "print(x % 5)\n",
    "print(x % 15)\n",
    "print(x % 14)"
   ]
  },
  {
   "cell_type": "markdown",
   "id": "aeba8b14",
   "metadata": {},
   "source": [
    "### Exponentation\n",
    "การยกกำลัง จะใช้เครื่องหมาย `**`"
   ]
  },
  {
   "cell_type": "code",
   "execution_count": 9,
   "id": "23b98cf9",
   "metadata": {},
   "outputs": [
    {
     "name": "stdout",
     "output_type": "stream",
     "text": [
      "25\n",
      "125\n",
      "9765625\n"
     ]
    }
   ],
   "source": [
    "x = 5\n",
    "y = 10\n",
    "print(x ** 2)\n",
    "print(x ** 3)\n",
    "print(x ** y)"
   ]
  },
  {
   "cell_type": "markdown",
   "id": "93e38bba",
   "metadata": {},
   "source": []
  },
  {
   "cell_type": "markdown",
   "id": "31461fe8",
   "metadata": {},
   "source": [
    "### Floor Division\n",
    "การหารไม่เอาเศษหรือปัดเศษลงเครื่องหมาย `//`"
   ]
  },
  {
   "cell_type": "code",
   "execution_count": 11,
   "id": "dc86123a",
   "metadata": {},
   "outputs": [
    {
     "name": "stdout",
     "output_type": "stream",
     "text": [
      "1.0\n",
      "1.0\n",
      "13.75\n",
      "13\n"
     ]
    }
   ],
   "source": [
    "print(33/33)\n",
    "print(33/33)\n",
    "print(55/4)\n",
    "print(55//4)"
   ]
  },
  {
   "cell_type": "code",
   "execution_count": 14,
   "id": "bf8baf55",
   "metadata": {},
   "outputs": [
    {
     "ename": "ModuleNotFoundError",
     "evalue": "No module named 'pylab'",
     "output_type": "error",
     "traceback": [
      "\u001b[1;31m---------------------------------------------------------------------------\u001b[0m",
      "\u001b[1;31mModuleNotFoundError\u001b[0m                       Traceback (most recent call last)",
      "Cell \u001b[1;32mIn[14], line 3\u001b[0m\n\u001b[0;32m      1\u001b[0m \u001b[38;5;66;03m# Python3 program for the above approach\u001b[39;00m\n\u001b[0;32m      2\u001b[0m \u001b[38;5;66;03m# import library\u001b[39;00m\n\u001b[1;32m----> 3\u001b[0m \u001b[38;5;28;01mimport\u001b[39;00m \u001b[38;5;21;01mpylab\u001b[39;00m\n\u001b[0;32m      4\u001b[0m \u001b[38;5;28;01mimport\u001b[39;00m \u001b[38;5;21;01mnumpy\u001b[39;00m \u001b[38;5;28;01mas\u001b[39;00m \u001b[38;5;21;01mnp\u001b[39;00m\n\u001b[0;32m      6\u001b[0m \u001b[38;5;66;03m# Width of heart\u001b[39;00m\n",
      "\u001b[1;31mModuleNotFoundError\u001b[0m: No module named 'pylab'"
     ]
    }
   ],
   "source": []
  },
  {
   "cell_type": "markdown",
   "id": "1148aca7",
   "metadata": {},
   "source": [
    "\n"
   ]
  },
  {
   "cell_type": "code",
   "execution_count": null,
   "id": "8c9fa30e",
   "metadata": {},
   "outputs": [],
   "source": []
  }
 ],
 "metadata": {
  "kernelspec": {
   "display_name": "Python 3 (ipykernel)",
   "language": "python",
   "name": "python3"
  },
  "language_info": {
   "codemirror_mode": {
    "name": "ipython",
    "version": 3
   },
   "file_extension": ".py",
   "mimetype": "text/x-python",
   "name": "python",
   "nbconvert_exporter": "python",
   "pygments_lexer": "ipython3",
   "version": "3.11.3"
  }
 },
 "nbformat": 4,
 "nbformat_minor": 5
}
