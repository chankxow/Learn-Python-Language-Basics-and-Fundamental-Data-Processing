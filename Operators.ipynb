{
 "cells": [
  {
   "cell_type": "markdown",
   "id": "837d2bc7",
   "metadata": {},
   "source": [
    "# Operators \n",
    "\n",
    "ตัวดำเนินการ\n",
    "ตัวแปรที่ถูกนำมาประมวลผล คือ operand"
   ]
  },
  {
   "cell_type": "markdown",
   "id": "5151fb14",
   "metadata": {},
   "source": [
    "### Arithmetic Operators\n",
    "\n",
    "ตัวดำเนินการทางคณิตศาสตร์\n",
    "- บวก\n",
    "- ลบ\n",
    "- คูณ\n",
    "- หาร"
   ]
  },
  {
   "cell_type": "code",
   "execution_count": 6,
   "id": "cbe2b500",
   "metadata": {},
   "outputs": [
    {
     "name": "stdout",
     "output_type": "stream",
     "text": [
      "60\n",
      "-40\n",
      "500\n",
      "0.2\n"
     ]
    }
   ],
   "source": [
    "x = 10\n",
    "y = 50\n",
    "print(x+y) #บวก\n",
    "print(x-y) #ลบ\n",
    "print(x*y) #คูณ\n",
    "print(x/y) #หาร"
   ]
  },
  {
   "cell_type": "markdown",
   "id": "879ace4a",
   "metadata": {},
   "source": [
    "### Unary Minus\n",
    "คือ นิเสธ ของ operand"
   ]
  },
  {
   "cell_type": "code",
   "execution_count": 7,
   "id": "27306026",
   "metadata": {},
   "outputs": [
    {
     "name": "stdout",
     "output_type": "stream",
     "text": [
      "-2\n",
      "5\n"
     ]
    }
   ],
   "source": [
    "a = 2\n",
    "b= -5\n",
    "\n",
    "print(-a)\n",
    "print(-b)"
   ]
  },
  {
   "cell_type": "markdown",
   "id": "2f9bb96b",
   "metadata": {},
   "source": [
    "### Modulus \n",
    "คือการหารเอาเศษ\n",
    "เครื่องหมาย `%`\n"
   ]
  },
  {
   "cell_type": "code",
   "execution_count": 8,
   "id": "b9c5355c",
   "metadata": {},
   "outputs": [
    {
     "name": "stdout",
     "output_type": "stream",
     "text": [
      "0\n",
      "0\n",
      "4\n"
     ]
    }
   ],
   "source": [
    "x = 60\n",
    "print(x % 5)\n",
    "print(x % 15)\n",
    "print(x % 14)"
   ]
  },
  {
   "cell_type": "markdown",
   "id": "a03f1ea6",
   "metadata": {},
   "source": [
    "### Exponentation\n",
    "การยกกำลัง จะใช้เครื่องหมาย `**`"
   ]
  },
  {
   "cell_type": "code",
   "execution_count": 9,
   "id": "5395ea4d",
   "metadata": {},
   "outputs": [
    {
     "name": "stdout",
     "output_type": "stream",
     "text": [
      "25\n",
      "125\n",
      "9765625\n"
     ]
    }
   ],
   "source": [
    "x = 5\n",
    "y = 10\n",
    "print(x ** 2)\n",
    "print(x ** 3)\n",
    "print(x ** y)"
   ]
  },
  {
   "cell_type": "markdown",
   "id": "22df27f5",
   "metadata": {},
   "source": []
  },
  {
   "cell_type": "markdown",
   "id": "94d513b7",
   "metadata": {},
   "source": [
    "### Floor Division\n",
    "การหารไม่เอาเศ"
   ]
  },
  {
   "cell_type": "code",
   "execution_count": null,
   "id": "e62956d0",
   "metadata": {},
   "outputs": [],
   "source": []
  }
 ],
 "metadata": {
  "kernelspec": {
   "display_name": "Python 3 (ipykernel)",
   "language": "python",
   "name": "python3"
  },
  "language_info": {
   "codemirror_mode": {
    "name": "ipython",
    "version": 3
   },
   "file_extension": ".py",
   "mimetype": "text/x-python",
   "name": "python",
   "nbconvert_exporter": "python",
   "pygments_lexer": "ipython3",
   "version": "3.11.3"
  }
 },
 "nbformat": 4,
 "nbformat_minor": 5
}
