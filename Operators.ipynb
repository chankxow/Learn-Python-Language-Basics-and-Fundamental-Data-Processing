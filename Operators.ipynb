{
 "cells": [
  {
   "cell_type": "markdown",
   "id": "d3624c91",
   "metadata": {},
   "source": [
    "# Operators \n",
    "\n",
    "ตัวดำเนินการ\n",
    "ตัวแปรที่ถูกนำมาประมวลผล คือ operand"
   ]
  },
  {
   "cell_type": "markdown",
   "id": "5691b8b5",
   "metadata": {},
   "source": [
    "## Arithmetic Operators\n",
    "\n",
    "ตัวดำเนินการทางคณิตศาสตร์\n",
    "- บวก\n",
    "- ลบ\n",
    "- คูณ\n",
    "- หาร"
   ]
  },
  {
   "cell_type": "code",
   "execution_count": null,
   "id": "94699da4",
   "metadata": {},
   "outputs": [],
   "source": [
    "x = 10\n",
    "y = 50\n",
    "print(x+y) #บวก\n",
    "print(x-y) #ลบ\n",
    "print(x*y) #คูณ\n",
    "print(x/y) #หาร"
   ]
  }
 ],
 "metadata": {
  "kernelspec": {
   "display_name": "Python 3 (ipykernel)",
   "language": "python",
   "name": "python3"
  },
  "language_info": {
   "codemirror_mode": {
    "name": "ipython",
    "version": 3
   },
   "file_extension": ".py",
   "mimetype": "text/x-python",
   "name": "python",
   "nbconvert_exporter": "python",
   "pygments_lexer": "ipython3",
   "version": "3.11.3"
  }
 },
 "nbformat": 4,
 "nbformat_minor": 5
}
