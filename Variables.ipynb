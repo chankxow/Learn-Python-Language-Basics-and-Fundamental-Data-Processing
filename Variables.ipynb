{
 "cells": [
  {
   "cell_type": "markdown",
   "id": "19d8685c",
   "metadata": {},
   "source": [
    "# Variables \n",
    "\n",
    "เราจะกำหนดตัวแปลและอ้างอิงตัวแปลโดยจะมีรูปแบบดังนี้ :\n",
    "\n",
    "e.g Syntax is :\n",
    "       \n",
    "       variable_name = value"
   ]
  },
  {
   "cell_type": "code",
   "execution_count": 1,
   "id": "ce706c48",
   "metadata": {},
   "outputs": [
    {
     "name": "stdout",
     "output_type": "stream",
     "text": [
      "3\n",
      "5.5\n"
     ]
    }
   ],
   "source": [
    "a = 3 # กำหนดให้ a = 3\n",
    "b = 5.5 #กำหนดให้ b = 5.5\n",
    "print(a)\n",
    "print(b)"
   ]
  },
  {
   "cell_type": "code",
   "execution_count": 3,
   "id": "fc938def",
   "metadata": {},
   "outputs": [
    {
     "name": "stdout",
     "output_type": "stream",
     "text": [
      "Kiattipoom\n",
      "Poom\n"
     ]
    }
   ],
   "source": [
    "name = \"Kiattipoom\"\n",
    "nickname = \"Poom\"\n",
    "print(name)\n",
    "print(nickname)"
   ]
  },
  {
   "cell_type": "code",
   "execution_count": 4,
   "id": "16b61d24",
   "metadata": {},
   "outputs": [
    {
     "name": "stdout",
     "output_type": "stream",
     "text": [
      "True\n",
      "False\n"
     ]
    }
   ],
   "source": [
    "p = True\n",
    "q = False\n",
    "print(p)\n",
    "print(q)"
   ]
  },
  {
   "cell_type": "markdown",
   "id": "6d7d5f93",
   "metadata": {},
   "source": [
    "`Python` ยังสามารถเขียนตัวแปรเดียวกันพร้อมกันหลายตัวได้ด้วย"
   ]
  },
  {
   "cell_type": "code",
   "execution_count": 5,
   "id": "5e6a5e76",
   "metadata": {},
   "outputs": [
    {
     "name": "stdout",
     "output_type": "stream",
     "text": [
      "500\n",
      "2000\n"
     ]
    }
   ],
   "source": [
    "a = b = c = e = 500\n",
    "print(a)\n",
    "print(a+b+c+e)"
   ]
  },
  {
   "cell_type": "markdown",
   "id": "e886441a",
   "metadata": {},
   "source": [
    "หรือจะกำหนดตัวแปรแต่ละตัวในบรรทัดเดียวกันก็ได้ตามนี้"
   ]
  },
  {
   "cell_type": "code",
   "execution_count": 6,
   "id": "94707d3a",
   "metadata": {},
   "outputs": [
    {
     "name": "stdout",
     "output_type": "stream",
     "text": [
      "Hello\n",
      "500\n",
      "True\n"
     ]
    }
   ],
   "source": [
    "a , b , c = \"Hello\" , 500 , True\n",
    "\n",
    "print(a)\n",
    "print(b)\n",
    "print(c)"
   ]
  },
  {
   "cell_type": "markdown",
   "id": "3e3d2f95",
   "metadata": {},
   "source": [
    "ตัวแปรตัวเดิมจะสามารถเก็บค่าใหม่ได้เรื่อยๆตามทีละบรรทัด โดยจะเป็นการแทนที่ตัวแปรไปเลย"
   ]
  },
  {
   "cell_type": "code",
   "execution_count": 8,
   "id": "3a885158",
   "metadata": {},
   "outputs": [
    {
     "name": "stdout",
     "output_type": "stream",
     "text": [
      "30\n",
      "20\n",
      "10\n",
      "Hello\n"
     ]
    }
   ],
   "source": [
    "a = 30\n",
    "print(a)\n",
    "a = 20\n",
    "print(a)\n",
    "a = 10 \n",
    "print(a)\n",
    "a = \"Hello\"\n",
    "print(a)"
   ]
  },
  {
   "cell_type": "markdown",
   "id": "a741b72f",
   "metadata": {},
   "source": [
    "ประเภทของตัวแปรนั้นจะอ้างอิงตามตัวแปรล่าสุดของโค้ด"
   ]
  },
  {
   "cell_type": "code",
   "execution_count": 10,
   "id": "a3e332c5",
   "metadata": {},
   "outputs": [
    {
     "name": "stdout",
     "output_type": "stream",
     "text": [
      "50\n",
      "<class 'int'>\n",
      "50.0\n",
      "<class 'float'>\n"
     ]
    }
   ],
   "source": [
    "a = 50\n",
    "print(a)\n",
    "print(type(a))\n",
    "\n",
    "b = 50.0\n",
    "a = b \n",
    "\n",
    "print (a)\n",
    "print(type(a))"
   ]
  },
  {
   "cell_type": "code",
   "execution_count": null,
   "id": "661b0716",
   "metadata": {},
   "outputs": [],
   "source": []
  }
 ],
 "metadata": {
  "kernelspec": {
   "display_name": "Python 3 (ipykernel)",
   "language": "python",
   "name": "python3"
  },
  "language_info": {
   "codemirror_mode": {
    "name": "ipython",
    "version": 3
   },
   "file_extension": ".py",
   "mimetype": "text/x-python",
   "name": "python",
   "nbconvert_exporter": "python",
   "pygments_lexer": "ipython3",
   "version": "3.11.3"
  }
 },
 "nbformat": 4,
 "nbformat_minor": 5
}
