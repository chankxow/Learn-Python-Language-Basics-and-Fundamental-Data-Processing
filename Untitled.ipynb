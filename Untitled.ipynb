{
 "cells": [
  {
   "cell_type": "markdown",
   "id": "89bab0e9",
   "metadata": {},
   "source": [
    "# Variables \n",
    "\n",
    "เราจะกำหนดตัวแปลและอ้างอิงตัวแปลโดยจะมีรูปแบบดังนี้ :\n",
    "\n",
    "e.g Syntax is :\n",
    "       \n",
    "       variable_name = value"
   ]
  },
  {
   "cell_type": "code",
   "execution_count": 1,
   "id": "98d4e609",
   "metadata": {},
   "outputs": [
    {
     "name": "stdout",
     "output_type": "stream",
     "text": [
      "3\n",
      "5.5\n"
     ]
    }
   ],
   "source": [
    "a = 3 # กำหนดให้ a = 3\n",
    "b = 5.5 #กำหนดให้ b = 5.5\n",
    "print(a)\n",
    "print(b)"
   ]
  },
  {
   "cell_type": "code",
   "execution_count": 3,
   "id": "d2aad849",
   "metadata": {},
   "outputs": [
    {
     "name": "stdout",
     "output_type": "stream",
     "text": [
      "Kiattipoom\n",
      "Poom\n"
     ]
    }
   ],
   "source": [
    "name = \"Kiattipoom\"\n",
    "nickname = \"Poom\"\n",
    "print(name)\n",
    "print(nickname)"
   ]
  },
  {
   "cell_type": "code",
   "execution_count": 4,
   "id": "e01b71c5",
   "metadata": {},
   "outputs": [
    {
     "name": "stdout",
     "output_type": "stream",
     "text": [
      "True\n",
      "False\n"
     ]
    }
   ],
   "source": [
    "p = True\n",
    "q = False\n",
    "print(p)\n",
    "print(q)"
   ]
  },
  {
   "cell_type": "markdown",
   "id": "42d82051",
   "metadata": {},
   "source": [
    "`Python` ยังสามารถเขียนตัวแปรเดียวกันพร้อมกันหลายตัวได้ด้วย"
   ]
  },
  {
   "cell_type": "code",
   "execution_count": 5,
   "id": "9cd56b83",
   "metadata": {},
   "outputs": [
    {
     "name": "stdout",
     "output_type": "stream",
     "text": [
      "500\n",
      "2000\n"
     ]
    }
   ],
   "source": [
    "a = b = c = e = 500\n",
    "print(a)\n",
    "print(a+b+c+e)"
   ]
  },
  {
   "cell_type": "markdown",
   "id": "58cc2a75",
   "metadata": {},
   "source": [
    "หรือจะกำหนดตัวแปรแต่ละตัวในบรรทัดเดียวกันก็ได้ตามนี้"
   ]
  },
  {
   "cell_type": "code",
   "execution_count": 6,
   "id": "1d643e38",
   "metadata": {},
   "outputs": [
    {
     "name": "stdout",
     "output_type": "stream",
     "text": [
      "Hello\n",
      "500\n",
      "True\n"
     ]
    }
   ],
   "source": [
    "a , b , c = \"Hello\" , 500 , True\n",
    "\n",
    "print(a)\n",
    "print(b)\n",
    "print(c)"
   ]
  },
  {
   "cell_type": "markdown",
   "id": "37a150e7",
   "metadata": {},
   "source": [
    "ตัวแปรตัวเดิมจะสามารถเก็บค่าใหม่ได้เรื่อยๆตามทีละบรรทัด โดยจะเป็นการแทนที่ตัวแปรไปเลย"
   ]
  },
  {
   "cell_type": "code",
   "execution_count": 8,
   "id": "d4b712ec",
   "metadata": {},
   "outputs": [
    {
     "name": "stdout",
     "output_type": "stream",
     "text": [
      "30\n",
      "20\n",
      "10\n",
      "Hello\n"
     ]
    }
   ],
   "source": [
    "a = 30\n",
    "print(a)\n",
    "a = 20\n",
    "print(a)\n",
    "a = 10 \n",
    "print(a)\n",
    "a = \"Hello\"\n",
    "print(a)"
   ]
  },
  {
   "cell_type": "code",
   "execution_count": null,
   "id": "dbcf4fbc",
   "metadata": {},
   "outputs": [],
   "source": []
  }
 ],
 "metadata": {
  "kernelspec": {
   "display_name": "Python 3 (ipykernel)",
   "language": "python",
   "name": "python3"
  },
  "language_info": {
   "codemirror_mode": {
    "name": "ipython",
    "version": 3
   },
   "file_extension": ".py",
   "mimetype": "text/x-python",
   "name": "python",
   "nbconvert_exporter": "python",
   "pygments_lexer": "ipython3",
   "version": "3.11.3"
  }
 },
 "nbformat": 4,
 "nbformat_minor": 5
}
