{
 "cells": [
  {
   "cell_type": "code",
   "execution_count": 5,
   "id": "b7754df2",
   "metadata": {},
   "outputs": [
    {
     "name": "stdout",
     "output_type": "stream",
     "text": [
      "ชื่อของคุณ : สารส้ม\n",
      "เลือกคำคุณศัพท์มา 3 คำ : น่ารัก น่ารักมากๆ น่ารักมากๆๆๆๆ\n",
      "จดหมายฉบับที่ :  31\n",
      "ทำไมเธอน่ารักจัง\n",
      "แถมยังน่ารักมากๆและน่ารักมากๆๆๆๆอีก\n",
      "ให้พูดอีกทีฉันก็จะบอกว่าเธอทั้งน่ารัก น่ารักมากๆและน่ารักมากๆๆๆๆ\n",
      "จากชายชาตรีนะ\n",
      "สารส้ม\n"
     ]
    }
   ],
   "source": [
    "name = input(\"ชื่อของคุณ : \").strip()\n",
    "adj = input(\"เลือกคำคุณศัพท์มา 3 คำ : \").strip()\n",
    "adj1,adj2,adj3 = adj.split()\n",
    "print(\"จดหมายฉบับที่ : \", len(adj))\n",
    "print(\"ทำไมเธอ\"+ adj1+\"จัง\")\n",
    "print(\"แถมยัง\"+adj2+\"และ\"+adj3+\"อีก\")\n",
    "print(\"ให้พูดอีกทีฉันก็จะบอกว่าเธอทั้ง\"+ adj1 +\" \"+adj2+\"และ\"+adj3)\n",
    "print(\"จากชายชาตรีนะ\")\n",
    "print(name)"
   ]
  },
  {
   "cell_type": "code",
   "execution_count": null,
   "id": "79d23af6",
   "metadata": {},
   "outputs": [],
   "source": []
  }
 ],
 "metadata": {
  "kernelspec": {
   "display_name": "Python 3 (ipykernel)",
   "language": "python",
   "name": "python3"
  },
  "language_info": {
   "codemirror_mode": {
    "name": "ipython",
    "version": 3
   },
   "file_extension": ".py",
   "mimetype": "text/x-python",
   "name": "python",
   "nbconvert_exporter": "python",
   "pygments_lexer": "ipython3",
   "version": "3.11.3"
  }
 },
 "nbformat": 4,
 "nbformat_minor": 5
}
