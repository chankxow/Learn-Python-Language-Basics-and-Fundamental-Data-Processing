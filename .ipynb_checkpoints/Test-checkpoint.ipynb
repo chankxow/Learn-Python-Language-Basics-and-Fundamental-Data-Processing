{
 "cells": [
  {
   "cell_type": "markdown",
   "id": "865fbcf7",
   "metadata": {},
   "source": [
    "# Python program at a Galnce\n",
    "Let's look some python programs without worrying about *How* and *Why* just yet.\n",
    "\n"
   ]
  },
  {
   "cell_type": "code",
   "execution_count": 1,
   "id": "11c362ba",
   "metadata": {},
   "outputs": [
    {
     "name": "stdout",
     "output_type": "stream",
     "text": [
      "Hello World\n"
     ]
    }
   ],
   "source": [
    "print(\"Hello World\")"
   ]
  },
  {
   "cell_type": "code",
   "execution_count": 3,
   "id": "73aeeb91",
   "metadata": {},
   "outputs": [
    {
     "name": "stdout",
     "output_type": "stream",
     "text": [
      "Hello Mars\n",
      "Hello Venus\n",
      "Hello Saturn\n"
     ]
    }
   ],
   "source": [
    "print(\"Hello Mars\")\n",
    "print(\"Hello Venus\")\n",
    "print(\"Hello Saturn\")"
   ]
  },
  {
   "cell_type": "markdown",
   "id": "118a7dbb",
   "metadata": {},
   "source": [
    "การแสดงข้อมูลจะแสดงออกมาที่ละบรรทัด"
   ]
  },
  {
   "cell_type": "code",
   "execution_count": 4,
   "id": "b415b529",
   "metadata": {},
   "outputs": [
    {
     "name": "stdout",
     "output_type": "stream",
     "text": [
      "Hello Mars\n"
     ]
    },
    {
     "ename": "NameError",
     "evalue": "name 'Print' is not defined",
     "output_type": "error",
     "traceback": [
      "\u001b[1;31m---------------------------------------------------------------------------\u001b[0m",
      "\u001b[1;31mNameError\u001b[0m                                 Traceback (most recent call last)",
      "Cell \u001b[1;32mIn[4], line 2\u001b[0m\n\u001b[0;32m      1\u001b[0m \u001b[38;5;28mprint\u001b[39m(\u001b[38;5;124m\"\u001b[39m\u001b[38;5;124mHello Mars\u001b[39m\u001b[38;5;124m\"\u001b[39m)\n\u001b[1;32m----> 2\u001b[0m \u001b[43mPrint\u001b[49m(\u001b[38;5;124m\"\u001b[39m\u001b[38;5;124mHello Venus\u001b[39m\u001b[38;5;124m\"\u001b[39m)\n\u001b[0;32m      3\u001b[0m \u001b[38;5;28mprint\u001b[39m(\u001b[38;5;124m\"\u001b[39m\u001b[38;5;124mHello Saturn\u001b[39m\u001b[38;5;124m\"\u001b[39m)\n",
      "\u001b[1;31mNameError\u001b[0m: name 'Print' is not defined"
     ]
    }
   ],
   "source": [
    "print(\"Hello Mars\")\n",
    "Print(\"Hello Venus\")\n",
    "print(\"Hello Saturn\")"
   ]
  },
  {
   "cell_type": "markdown",
   "id": "9eb7e9bb",
   "metadata": {},
   "source": [
    "โค้ดที่ผิดพลาดจะเรียนกว่า *debug*"
   ]
  },
  {
   "cell_type": "markdown",
   "id": "fa163ae7",
   "metadata": {},
   "source": [
    "ต่อไปจะเป็นการใช้งานตัวดำเนินการ `+`,`-`,`*`,`/` ที่เรียกว่า *Operaters*"
   ]
  },
  {
   "cell_type": "code",
   "execution_count": 7,
   "id": "6d6a7989",
   "metadata": {},
   "outputs": [
    {
     "name": "stdout",
     "output_type": "stream",
     "text": [
      "20\n",
      "5\n",
      "50\n",
      "1.0\n"
     ]
    }
   ],
   "source": [
    "print(10+10)\n",
    "print(10-5)\n",
    "print(10*5)\n",
    "print(10/10)"
   ]
  },
  {
   "cell_type": "markdown",
   "id": "d5661ab7",
   "metadata": {},
   "source": [
    "อันนี้จะเป็นวิธีการคอมเม้นเราจะใช้ตัวของ # ขึ้นต้น"
   ]
  },
  {
   "cell_type": "code",
   "execution_count": 8,
   "id": "f6654d29",
   "metadata": {},
   "outputs": [
    {
     "name": "stdout",
     "output_type": "stream",
     "text": [
      "Enter your name : Kiattipoom\n",
      "Hello Kiattipoom\n"
     ]
    }
   ],
   "source": [
    "# ตัวแปร name ให้อินพุตชื่อลงไป\n",
    "\n",
    "name = input(\"Enter your name : \")\n",
    "\n",
    "#แสดงผลข้อมูล \"Hello\" กับ ตัวแปร name ของเรา \n",
    "\n",
    "print(\"Hello \"+name)"
   ]
  },
  {
   "cell_type": "markdown",
   "id": "33128713",
   "metadata": {},
   "source": [
    "การจัดย่อหน้าของโค้ดนั้นก็มีความจำเป็นอน่างมากดด้วย"
   ]
  },
  {
   "cell_type": "code",
   "execution_count": 9,
   "id": "16b77ad9",
   "metadata": {},
   "outputs": [
    {
     "ename": "IndentationError",
     "evalue": "unexpected indent (3433269506.py, line 2)",
     "output_type": "error",
     "traceback": [
      "\u001b[1;36m  Cell \u001b[1;32mIn[9], line 2\u001b[1;36m\u001b[0m\n\u001b[1;33m    print(\"Hello Venus\")\u001b[0m\n\u001b[1;37m    ^\u001b[0m\n\u001b[1;31mIndentationError\u001b[0m\u001b[1;31m:\u001b[0m unexpected indent\n"
     ]
    }
   ],
   "source": [
    "print(\"Hello Mars\")\n",
    "    print(\"Hello Venus\")\n",
    "print(\"Hello Saturn\")"
   ]
  },
  {
   "cell_type": "code",
   "execution_count": 13,
   "id": "691b4958",
   "metadata": {},
   "outputs": [
    {
     "name": "stdout",
     "output_type": "stream",
     "text": [
      "type go : go\n",
      "Ready?\n",
      "Let's Go\n",
      "Have a good day!\n"
     ]
    }
   ],
   "source": [
    "x = input(\"type go : \")\n",
    "if x == \"go\":\n",
    "    print(\"Ready?\")\n",
    "    print(\"Let's Go\")\n",
    "print(\"Have a good day!\")"
   ]
  },
  {
   "cell_type": "markdown",
   "id": "d88ebb85",
   "metadata": {},
   "source": []
  }
 ],
 "metadata": {
  "kernelspec": {
   "display_name": "Python 3 (ipykernel)",
   "language": "python",
   "name": "python3"
  },
  "language_info": {
   "codemirror_mode": {
    "name": "ipython",
    "version": 3
   },
   "file_extension": ".py",
   "mimetype": "text/x-python",
   "name": "python",
   "nbconvert_exporter": "python",
   "pygments_lexer": "ipython3",
   "version": "3.11.3"
  }
 },
 "nbformat": 4,
 "nbformat_minor": 5
}
